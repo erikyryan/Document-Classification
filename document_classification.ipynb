{
  "cells": [
    {
      "cell_type": "markdown",
      "metadata": {
        "id": "view-in-github",
        "colab_type": "text"
      },
      "source": [
        "<a href=\"https://colab.research.google.com/github/erikyryan/document-classification/blob/main/document_classification.ipynb\" target=\"_parent\"><img src=\"https://colab.research.google.com/assets/colab-badge.svg\" alt=\"Open In Colab\"/></a>"
      ]
    },
    {
      "cell_type": "markdown",
      "source": [
        "#Base de treinamento para a IA"
      ],
      "metadata": {
        "id": "6rL6HLsXh7wO"
      }
    },
    {
      "cell_type": "markdown",
      "source": [
        "### `Import das funções`"
      ],
      "metadata": {
        "id": "4e4QGK5xBdz1"
      }
    },
    {
      "cell_type": "code",
      "execution_count": 102,
      "metadata": {
        "id": "DxhQ2v-t9CbZ"
      },
      "outputs": [],
      "source": [
        "import matplotlib.pyplot as plt\n",
        "import numpy as np\n",
        "import random\n",
        "import requests\n",
        "import os\n",
        "import zipfile\n",
        "\n",
        "from random import randint\n",
        "from sklearn import metrics\n",
        "from sklearn.svm import SVC"
      ]
    },
    {
      "cell_type": "markdown",
      "metadata": {
        "collapsed": false,
        "id": "jZnfuGTA9Cbi"
      },
      "source": [
        "# Leitura dos imagens"
      ]
    },
    {
      "cell_type": "code",
      "source": [
        "pathSample = 'https://drive.google.com/uc?id=144EqqmMtCziua9iYo-3afUEvZrJVxUXU&export=download&confirm=t&uuid=363cbdc1-ef8d-40e3-ac8f-92e8efbac4de&at=AKKF8vwO3Rerxp4Y4e7nvK22YqGB:1687737101639' #Database Sample\n",
        "compressionSamplePath = '/content/storage/sample.zip'\n",
        "if not(os.path.isdir('/content/storage')):\n",
        "  os.mkdir('storageasd') #diretorio para armazenar os arquivos baixados."
      ],
      "metadata": {
        "id": "-tutGm7J9ONY"
      },
      "execution_count": 103,
      "outputs": []
    },
    {
      "cell_type": "code",
      "source": [
        "response = requests.post(pathSample)\n",
        "\n",
        "if 'Content-Disposition' in response.headers:\n",
        "    # Extrai o nome do arquivo do cabeçalho\n",
        "    header = response.headers['Content-Disposition']\n",
        "    filename = header.split('filename=')[1].strip('\"')\n",
        "else:\n",
        "    print(\"Nome do arquivo não encontrado na resposta.\")\n",
        "\n",
        "with open(compressionSamplePath, 'wb') as file:\n",
        "    file.write(response.content)\n",
        "\n",
        "with zipfile.ZipFile(compressionSamplePath, 'r') as zip_ref:\n",
        "    zip_ref.extractall('/content/storage/' + filename)"
      ],
      "metadata": {
        "colab": {
          "base_uri": "https://localhost:8080/"
        },
        "id": "Inn0cjXz6Lvs",
        "outputId": "d4bf8d21-17dd-458e-f126-42475790ec05"
      },
      "execution_count": 105,
      "outputs": [
        {
          "output_type": "stream",
          "name": "stdout",
          "text": [
            "Nome do arquivo: BID Sample Dataset.zip\"; filename*=UTF-8''BID%20Sample%20Dataset.zip\n"
          ]
        }
      ]
    },
    {
      "cell_type": "code",
      "execution_count": 20,
      "metadata": {
        "id": "p95GH_f_9Cbl"
      },
      "outputs": [],
      "source": [
        "cnh_aberta =  readpath(pathSample + '/dataset/CNH_Aberta/*')\n",
        "cnh_aberta =  read_files(cnh_aberta)\n",
        "cnh_aberta = resize_img(cnh_aberta,(64,64))\n",
        "\n",
        "cnh_frente =  readpath(pathSample + '/dataset/CNH_Frente/*')\n",
        "cnh_frente =  read_files(cnh_frente)\n",
        "cnh_frente = resize_img(cnh_frente,(64,64))\n",
        "\n",
        "cnh_verso =  readpath(pathSample +  '/dataset/CNH_Verso/*')\n",
        "cnh_verso =  read_files(cnh_verso)\n",
        "cnh_verso = resize_img(cnh_verso,(64,64))"
      ]
    },
    {
      "cell_type": "code",
      "execution_count": null,
      "metadata": {
        "pycharm": {
          "name": "#%%\n"
        },
        "id": "NyETEK_C9Cbo"
      },
      "outputs": [],
      "source": [
        "cpf_frente =  cd.readpath(pathSample + '/dataset/CPF_Frente/*')\n",
        "cpf_frente =  cd.read_files(cpf_frente)\n",
        "cpf_frente = cd.resize_img(cpf_frente,(64,64))\n",
        "\n",
        "cpf_verso =  cd.readpath(pathSample +'/dataset/CPF_Verso/*')\n",
        "cpf_verso =  cd.read_files(cpf_verso)\n",
        "cpf_verso = cd.resize_img(cpf_verso,(64,64))"
      ]
    },
    {
      "cell_type": "code",
      "execution_count": null,
      "metadata": {
        "pycharm": {
          "name": "#%%\n"
        },
        "id": "4r0LivNM9Cbq"
      },
      "outputs": [],
      "source": [
        "rg_frente =  cd.readpath(pathSample + '/dataset/RG_Frente/*')\n",
        "rg_frente =  cd.read_files(rg_frente)\n",
        "rg_frente = cd.resize_img(rg_frente,(64,64))\n",
        "\n",
        "rg_verso =  cd.readpath(pathSample + '/dataset/RG_Verso/*')\n",
        "rg_verso =  cd.read_files(rg_verso)\n",
        "rg_verso = cd.resize_img(rg_verso,(64,64))\n",
        "\n",
        "rg_aberto =  cd.readpath(pathSample + '/dataset/RG_Aberto/*')\n",
        "rg_aberto =  cd.read_files(rg_aberto)\n",
        "rg_aberto = cd.resize_img(rg_aberto,(64,64))"
      ]
    },
    {
      "cell_type": "markdown",
      "metadata": {
        "id": "6iIS33UW9Cbt"
      },
      "source": [
        "## Teste de plotagem"
      ]
    },
    {
      "cell_type": "code",
      "execution_count": null,
      "metadata": {
        "colab": {
          "base_uri": "https://localhost:8080/",
          "height": 268
        },
        "id": "_kB0lGeK9Cbu",
        "outputId": "ffa9a518-a2b6-45e2-93bc-cfdc926b30b1"
      },
      "outputs": [
        {
          "output_type": "display_data",
          "data": {
            "image/png": "[encoded data removed]",
            "text/plain": [
              "<Figure size 432x288 with 1 Axes>"
            ]
          },
          "metadata": {
            "needs_background": "light"
          }
        }
      ],
      "source": [
        "plt.imshow(rg_frente[0])\n",
        "plt.show()"
      ]
    },
    {
      "cell_type": "markdown",
      "metadata": {
        "collapsed": false,
        "id": "lBOmuzqP9Cbv"
      },
      "source": [
        "## Preparação dos dados para o treinamento"
      ]
    },
    {
      "cell_type": "code",
      "execution_count": null,
      "metadata": {
        "pycharm": {
          "name": "#%%\n"
        },
        "id": "2RloHJib9Cbw"
      },
      "outputs": [],
      "source": [
        "labels = [1,2,3,4,5,6,7,8]\n",
        "documents = []\n",
        "\n",
        "for a,b,c,d,e,f,g,h in zip(cnh_aberta,cnh_frente,cnh_verso,cpf_frente,cpf_verso,rg_frente,rg_verso,rg_aberto):\n",
        "\tdocuments.append({'x':a, 'y':labels[0]})\n",
        "\tdocuments.append({'x':b,'y':labels[1]})\n",
        "\tdocuments.append({'x':c,'y':labels[2]})\n",
        "\tdocuments.append({'x':d,'y':labels[3]})\n",
        "\tdocuments.append({'x':e,'y':labels[4]})\n",
        "\tdocuments.append({'x':f,'y':labels[5]})\n",
        "\tdocuments.append({'x':g,'y':labels[6]})\n",
        "\tdocuments.append({'x':h,'y':labels[7]})\n"
      ]
    },
    {
      "cell_type": "code",
      "execution_count": null,
      "metadata": {
        "pycharm": {
          "name": "#%%\n"
        },
        "id": "GuWmo07B9Cbx"
      },
      "outputs": [],
      "source": [
        "x_train = []\n",
        "y_train = []\n",
        "\n",
        "x_test = []\n",
        "y_test = []\n",
        "\n",
        "i = 0\n",
        "for document in documents:\n",
        "\tif i < 1000:\n",
        "\t\tx_train.append(document['x'])\n",
        "\t\ty_train.append(document['y'])\n",
        "\telse: break\n",
        "\n",
        "np.random.shuffle(documents[1000:]) #embaralhando os documentos\n",
        "\n",
        "i = 0\n",
        "for document in documents[1000:]:\n",
        "\tif i < 1000:\n",
        "\t\tx_test.append(document['x'])\n",
        "\t\ty_test.append(document['y'])\n",
        "\telse: break\n"
      ]
    },
    {
      "cell_type": "code",
      "execution_count": null,
      "metadata": {
        "pycharm": {
          "name": "#%%\n"
        },
        "id": "ZkWufEjA9Cbx"
      },
      "outputs": [],
      "source": [
        "x_train, y_train = cd.started_values(x_train,y_train)\n",
        "x_test, y_test = cd.started_values(x_test,y_test)"
      ]
    },
    {
      "cell_type": "markdown",
      "metadata": {
        "collapsed": false,
        "id": "o-pn8xd_9Cby"
      },
      "source": [
        "# Modelo SVM"
      ]
    },
    {
      "cell_type": "code",
      "execution_count": null,
      "metadata": {
        "pycharm": {
          "name": "#%%\n"
        },
        "id": "-yLtIOZT9Cbz",
        "colab": {
          "base_uri": "https://localhost:8080/"
        },
        "outputId": "7571a331-a153-46f7-f43c-5db08948dfc3"
      },
      "outputs": [
        {
          "output_type": "execute_result",
          "data": {
            "text/plain": [
              "SVC(kernel='linear')"
            ]
          },
          "metadata": {},
          "execution_count": 16
        }
      ],
      "source": [
        "document_classifier = SVC(kernel='linear')\n",
        "document_classifier.fit(x_train,y_train)"
      ]
    },
    {
      "cell_type": "code",
      "source": [
        "test = random.choice(documents[1000:]) #escolhendo de forma aleatória\n",
        "\n",
        "prediction  = document_classifier.predict(test['x'].reshape(1,-1))"
      ],
      "metadata": {
        "id": "w_M_NTtBzIeQ"
      },
      "execution_count": null,
      "outputs": []
    },
    {
      "cell_type": "code",
      "execution_count": null,
      "metadata": {
        "pycharm": {
          "is_executing": true,
          "name": "#%%\n"
        },
        "id": "6jnfT62i9Cb0",
        "colab": {
          "base_uri": "https://localhost:8080/",
          "height": 285
        },
        "outputId": "fc35a27e-963f-47f6-837e-89bc9a2ae294"
      },
      "outputs": [
        {
          "output_type": "stream",
          "name": "stdout",
          "text": [
            "Document: CPF\n"
          ]
        },
        {
          "output_type": "display_data",
          "data": {
            "image/png": "[encoded data removed]",
            "text/plain": [
              "<Figure size 432x288 with 1 Axes>"
            ]
          },
          "metadata": {
            "needs_background": "light"
          }
        }
      ],
      "source": [
        "print('Document:', cd.result(prediction))\n",
        "\n",
        "plt.imshow(test['x'])\n",
        "plt.show()"
      ]
    },
    {
      "cell_type": "markdown",
      "metadata": {
        "id": "VRoor0669Cb4"
      },
      "source": [
        "# Rede Neural Convolucional"
      ]
    },
    {
      "cell_type": "code",
      "execution_count": null,
      "metadata": {
        "id": "-KQH2ovW9Cb4"
      },
      "outputs": [],
      "source": [
        "import tensorflow as tf\n",
        "import keras as K\n",
        "from keras.models import Sequential\n",
        "from keras.layers import Conv2D\n",
        "from keras.layers import MaxPooling2D\n",
        "from keras.layers import Flatten\n",
        "from keras.layers import Dense\n",
        "from keras.layers import Dropout"
      ]
    },
    {
      "cell_type": "markdown",
      "source": [
        "### Normalizando os dados entre 0 e 1"
      ],
      "metadata": {
        "id": "XKBgXvd1lZhM"
      }
    },
    {
      "cell_type": "code",
      "source": [
        "x_train = x_train / 255\n",
        "x_test = x_test / 255"
      ],
      "metadata": {
        "id": "B2qe98QklZJr"
      },
      "execution_count": null,
      "outputs": []
    },
    {
      "cell_type": "code",
      "source": [
        "classifier = Sequential()"
      ],
      "metadata": {
        "id": "NI7ZD5eglnnb"
      },
      "execution_count": null,
      "outputs": []
    },
    {
      "cell_type": "code",
      "execution_count": null,
      "metadata": {
        "id": "wciHW4z09Cb8"
      },
      "outputs": [],
      "source": [
        "classifier.add(Conv2D(32, (3, 3), input_shape = (64, 64, 3), activation = 'relu'))\n",
        "\n",
        "classifier.add(MaxPooling2D(pool_size = (2, 2)))\n",
        "\n",
        "classifier.add(Conv2D(32, (3, 3), activation = 'relu'))\n",
        "\n",
        "classifier.add(MaxPooling2D(pool_size = (2, 2)))"
      ]
    },
    {
      "cell_type": "code",
      "execution_count": null,
      "metadata": {
        "id": "cQcDDLHS9Cb-"
      },
      "outputs": [],
      "source": [
        "classifier.add(Flatten())"
      ]
    },
    {
      "cell_type": "code",
      "source": [
        "classifier.add(Dense(1000,activation='relu'))\n",
        "\n",
        "classifier.add(Dropout(0.5))\n",
        "\n",
        "classifier.add(Dense(500,activation='relu'))\n",
        "\n",
        "classifier.add(Dropout(0.5))\n",
        "\n",
        "classifier.add(Dense(250,activation='relu'))\n",
        "\n",
        "classifier.add(Dense(10,activation='softmax'))"
      ],
      "metadata": {
        "id": "icV1Bas2fsMB"
      },
      "execution_count": null,
      "outputs": []
    },
    {
      "cell_type": "code",
      "execution_count": null,
      "metadata": {
        "id": "xWeBiGWZ9Cb_"
      },
      "outputs": [],
      "source": [
        "classifier.compile(optimizer = 'adam', loss = 'binary_crossentropy', metrics = ['accuracy'])"
      ]
    },
    {
      "cell_type": "code",
      "source": [
        "classifier.summary()"
      ],
      "metadata": {
        "id": "-BFzX_QydvAW",
        "colab": {
          "base_uri": "https://localhost:8080/"
        },
        "outputId": "e9a6e1f6-e861-486e-dac4-c7ad1c881ff4"
      },
      "execution_count": null,
      "outputs": [
        {
          "output_type": "stream",
          "name": "stdout",
          "text": [
            "Model: \"sequential\"\n",
            "_________________________________________________________________\n",
            " Layer (type)                Output Shape              Param #   \n",
            "=================================================================\n",
            " conv2d (Conv2D)             (None, 62, 62, 32)        896       \n",
            "                                                                 \n",
            " max_pooling2d (MaxPooling2D  (None, 31, 31, 32)       0         \n",
            " )                                                               \n",
            "                                                                 \n",
            " conv2d_1 (Conv2D)           (None, 29, 29, 32)        9248      \n",
            "                                                                 \n",
            " max_pooling2d_1 (MaxPooling  (None, 14, 14, 32)       0         \n",
            " 2D)                                                             \n",
            "                                                                 \n",
            " flatten (Flatten)           (None, 6272)              0         \n",
            "                                                                 \n",
            " dense (Dense)               (None, 1000)              6273000   \n",
            "                                                                 \n",
            " dropout (Dropout)           (None, 1000)              0         \n",
            "                                                                 \n",
            " dense_1 (Dense)             (None, 500)               500500    \n",
            "                                                                 \n",
            " dropout_1 (Dropout)         (None, 500)               0         \n",
            "                                                                 \n",
            " dense_2 (Dense)             (None, 250)               125250    \n",
            "                                                                 \n",
            " dense_3 (Dense)             (None, 10)                2510      \n",
            "                                                                 \n",
            "=================================================================\n",
            "Total params: 6,911,404\n",
            "Trainable params: 6,911,404\n",
            "Non-trainable params: 0\n",
            "_________________________________________________________________\n"
          ]
        }
      ]
    },
    {
      "cell_type": "code",
      "source": [
        "test_loss, test_acc = classifier.evaluate(y_test, x_test)\n",
        "print(\"Accuracy: \", test_acc)"
      ],
      "metadata": {
        "id": "zgN9ki4oeIAZ"
      },
      "execution_count": null,
      "outputs": []
    },
    {
      "cell_type": "markdown",
      "metadata": {
        "id": "Eawyx3C59Cb_"
      },
      "source": [
        "# Treinando a Rede Neural Convolucional"
      ]
    },
    {
      "cell_type": "code",
      "source": [
        "from tensorflow.keras.utils import to_categorical\n",
        "\n",
        "#classificação\n",
        "classification = ['CNH','CNH','CNH','CPF','CPF','RG','RG','RG']\n",
        "\n",
        "y_train_one_hot = to_categorical(y_train)\n",
        "y_test_one_hot = to_categorical(y_test)"
      ],
      "metadata": {
        "id": "A2F9HuWtjOZj"
      },
      "execution_count": null,
      "outputs": []
    },
    {
      "cell_type": "markdown",
      "source": [
        "## Treinando o modelo"
      ],
      "metadata": {
        "id": "4TDjO2UVlIXW"
      }
    },
    {
      "cell_type": "code",
      "source": [
        "hist = classifier.fit(x_train,y_train_one_hot,\n",
        "                 batch_size=256,\n",
        "                 epochs=10,\n",
        "                 validation_split=0.2)"
      ],
      "metadata": {
        "id": "iK-oh8molHYr"
      },
      "execution_count": null,
      "outputs": []
    },
    {
      "cell_type": "markdown",
      "source": [
        "## Teste do modelo exemplo"
      ],
      "metadata": {
        "id": "xc-MhwJ0mcxE"
      }
    },
    {
      "cell_type": "code",
      "source": [
        "from google.colab import files\n",
        "uploaded = files.upload()\n",
        "\n",
        "#show the image\n",
        "new_img = plt.imread('nome_da_imagem.jpg')\n",
        "img = plt.imshow(new_img)"
      ],
      "metadata": {
        "id": "ifFF9BXImi2E"
      },
      "execution_count": null,
      "outputs": []
    },
    {
      "cell_type": "markdown",
      "source": [
        "### Resize na imagem"
      ],
      "metadata": {
        "id": "W1e7Umuymr5D"
      }
    },
    {
      "cell_type": "code",
      "source": [
        "#resize image\n",
        "from skimage.transform import resize\n",
        "resized_image = resize(new_img,(64,64,3))\n",
        "img = plt.imshow(resized_image)"
      ],
      "metadata": {
        "id": "lF0a5f69mqzw"
      },
      "execution_count": null,
      "outputs": []
    },
    {
      "cell_type": "markdown",
      "source": [
        "## Predictions"
      ],
      "metadata": {
        "id": "eq9QlTx8mwmD"
      }
    },
    {
      "cell_type": "code",
      "source": [
        "predictions = classifier.predict(np.array([resized_image])) #Get the models predictions"
      ],
      "metadata": {
        "id": "LQCwz2Xjm2Ed"
      },
      "execution_count": null,
      "outputs": []
    },
    {
      "cell_type": "markdown",
      "source": [
        "## Aplicação do modelo"
      ],
      "metadata": {
        "id": "kifEVoLhnDne"
      }
    },
    {
      "cell_type": "code",
      "source": [
        "from types import prepare_class\n",
        "#Sort the predictions from least to greatest\n",
        "list_index = [1,2,3,4,5,6,7,8]\n",
        "x = predictions\n",
        "\n",
        "for i in range(8):\n",
        "  for j in range(8):\n",
        "    if x[0][list_index[i]] > x[0][list_index[j]]:\n",
        "      temp = list_index[i]\n",
        "      list_index[i] = list_index[j]\n",
        "      list_index[j] = temp\n",
        "\n",
        "#show the sorted labels order\n",
        "print(list_index)"
      ],
      "metadata": {
        "id": "GV6t1RR8nGgD"
      },
      "execution_count": null,
      "outputs": []
    },
    {
      "cell_type": "markdown",
      "metadata": {
        "id": "GN68eGdY9Cb1"
      },
      "source": [
        "# Modelo de Acurácia"
      ]
    },
    {
      "cell_type": "code",
      "execution_count": null,
      "metadata": {
        "id": "7xT2s8Ri9Cb2"
      },
      "outputs": [],
      "source": [
        "#Vizualizacao do modelo de accuraria\n",
        "\n",
        "#print('Accuracy:',metrics.accuracy_score(y_test[:1000],y_train[:1000]))\n",
        "\n",
        "plt.plot(y_test[:1000])\n",
        "plt.plot(y_train[:1000])\n",
        "plt.title(\"Modelo de Acurácia:\")\n",
        "plt.ylabel('Acurácia')\n",
        "plt.xlabel('Tempo')\n",
        "plt.legend(['Treinamento', 'Valor'], loc='upper right')\n",
        "plt.show()"
      ]
    },
    {
      "cell_type": "markdown",
      "source": [
        "## Modelo de accuracy"
      ],
      "metadata": {
        "id": "DMmIg5IAmMxR"
      }
    },
    {
      "cell_type": "code",
      "source": [
        "plt.plot(hist.history['accuracy'])\n",
        "plt.plot(hist.history['val_accuracy']) #validation accuracy\n",
        "plt.title('Model accucary')\n",
        "plt.ylabel('Accuracy')\n",
        "plt.xlabel('Epoch')\n",
        "plt.legend(['Train','Val'], loc='upper right')\n",
        "plt.show()"
      ],
      "metadata": {
        "id": "Bz1G0jvHmLsV"
      },
      "execution_count": null,
      "outputs": []
    },
    {
      "cell_type": "markdown",
      "source": [
        "## Modelo de loss"
      ],
      "metadata": {
        "id": "CuOEn-L3mUmj"
      }
    },
    {
      "cell_type": "code",
      "source": [
        "#Vizualise the models loss\n",
        "plt.plot(hist.history['loss'])\n",
        "plt.plot(hist.history['val_loss']) #validation loss\n",
        "plt.title('Model loss')\n",
        "plt.ylabel('Loss')\n",
        "plt.xlabel('Epoch')\n",
        "plt.legend(['Train','Val'], loc='upper right')\n",
        "plt.show()"
      ],
      "metadata": {
        "id": "IV7zadYWmXdU"
      },
      "execution_count": null,
      "outputs": []
    },
    {
      "cell_type": "markdown",
      "metadata": {
        "id": "eVYInE8d9Cb2"
      },
      "source": [
        "# Modelo de Perda"
      ]
    },
    {
      "cell_type": "code",
      "execution_count": null,
      "metadata": {
        "id": "qHqbtMiL9Cb3"
      },
      "outputs": [],
      "source": [
        "#Vizulizacao do modelo de perda\n",
        "\n",
        "plt.plot(y_test[:1000])\n",
        "plt.plot(y_test[:1000])\n",
        "plt.title(\"Modelo de Perda:\")\n",
        "plt.ylabel('Perda')\n",
        "plt.xlabel('Tempo')\n",
        "plt.legend(['Treinamento', 'Valor'], loc='upper left')\n",
        "plt.show()"
      ]
    }
  ],
  "metadata": {
    "interpreter": {
      "hash": "a7f7bf6e294e5d2489f88d425ace11a197b461158df0335d6f5d57f2f7edadc8"
    },
    "kernelspec": {
      "display_name": "Python 3.10.0 64-bit",
      "language": "python",
      "name": "python3"
    },
    "language_info": {
      "codemirror_mode": {
        "name": "ipython",
        "version": 3
      },
      "file_extension": ".py",
      "mimetype": "text/x-python",
      "name": "python",
      "nbconvert_exporter": "python",
      "pygments_lexer": "ipython3",
      "version": "3.10.0"
    },
    "orig_nbformat": 4,
    "colab": {
      "name": "document_classification.ipynb",
      "provenance": [],
      "include_colab_link": true
    }
  },
  "nbformat": 4,
  "nbformat_minor": 0
}