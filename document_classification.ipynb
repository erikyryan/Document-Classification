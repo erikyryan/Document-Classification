{
  "cells": [
    {
      "cell_type": "code",
      "source": [
        "import sys\n",
        "from google.colab import drive\n",
        "\n",
        "drive.mount('/content/drive')\n",
        "path = '/content/drive/My Drive/Colab Notebooks/mandacaru/desafio01'\n",
        "sys.path.append(path)"
      ],
      "metadata": {
        "colab": {
          "base_uri": "https://localhost:8080/"
        },
        "id": "-tutGm7J9ONY",
        "outputId": "087f755c-00b9-4461-dfd6-171d062e950c"
      },
      "execution_count": 49,
      "outputs": [
        {
          "output_type": "stream",
          "name": "stdout",
          "text": [
            "Drive already mounted at /content/drive; to attempt to forcibly remount, call drive.mount(\"/content/drive\", force_remount=True).\n"
          ]
        }
      ]
    },
    {
      "cell_type": "code",
      "execution_count": 50,
      "metadata": {
        "id": "DxhQ2v-t9CbZ"
      },
      "outputs": [],
      "source": [
        "import classification_data as cd\n",
        "import matplotlib.pyplot as plt\n",
        "import numpy as np\n",
        "import random\n",
        "from random import randint\n",
        "from sklearn import metrics\n",
        "from sklearn.svm import SVC\n",
        "#from sklearn.svm import SVR"
      ]
    },
    {
      "cell_type": "markdown",
      "source": [
        "#### Verificar diretório do notebook"
      ],
      "metadata": {
        "id": "4e4QGK5xBdz1"
      }
    },
    {
      "cell_type": "code",
      "source": [
        "import sys\n",
        "print('\\n'.join(sys.path))"
      ],
      "metadata": {
        "colab": {
          "base_uri": "https://localhost:8080/"
        },
        "id": "qlesPlo8AhHR",
        "outputId": "c6bfb755-faed-44cd-e3d5-bd07c88063e1"
      },
      "execution_count": 51,
      "outputs": [
        {
          "output_type": "stream",
          "name": "stdout",
          "text": [
            "\n",
            "/content\n",
            "/env/python\n",
            "/usr/lib/python37.zip\n",
            "/usr/lib/python3.7\n",
            "/usr/lib/python3.7/lib-dynload\n",
            "/usr/local/lib/python3.7/dist-packages\n",
            "/usr/lib/python3/dist-packages\n",
            "/usr/local/lib/python3.7/dist-packages/IPython/extensions\n",
            "/root/.ipython\n",
            "/content/drive/My Drive/mandacaru/desafio01\n",
            "/content/drive/My Drive/mandacaru/desafio01\n",
            "/content/drive/My Drive/mandacaru/desafio01\n",
            "/content/drive/My Drive/Colab Notebooks/mandacaru/desafio01\n",
            "/content/drive/My Drive/Colab Notebooks/mandacaru/desafio01\n",
            "/content/drive/My Drive/Colab Notebooks/mandacaru/desafio01\n",
            "/content/drive/My Drive/Colab Notebooks/mandacaru/desafio01\n",
            "/content/drive/My Drive/Colab Notebooks/mandacaru/desafio01\n"
          ]
        }
      ]
    },
    {
      "cell_type": "code",
      "source": [
        "import os\n",
        "os.path.isdir( path +'/dataset/CNH_Aberta')"
      ],
      "metadata": {
        "colab": {
          "base_uri": "https://localhost:8080/"
        },
        "id": "kbrDoMOtALGT",
        "outputId": "638c9dfa-3fe7-4bb0-b1ff-01847bccad1d"
      },
      "execution_count": 52,
      "outputs": [
        {
          "output_type": "execute_result",
          "data": {
            "text/plain": [
              "True"
            ]
          },
          "metadata": {},
          "execution_count": 52
        }
      ]
    },
    {
      "cell_type": "markdown",
      "metadata": {
        "collapsed": false,
        "id": "jZnfuGTA9Cbi"
      },
      "source": [
        "## Leitura da CNH"
      ]
    },
    {
      "cell_type": "code",
      "execution_count": 29,
      "metadata": {
        "id": "p95GH_f_9Cbl"
      },
      "outputs": [],
      "source": [
        "cnh_aberta =  cd.readpath(path + '/dataset/CNH_Aberta/*')\n",
        "cnh_aberta =  cd.read_files(cnh_aberta)\n",
        "cnh_aberta = cd.resize_img(cnh_aberta,(50,50))\n",
        "\n",
        "cnh_frente =  cd.readpath(path + '/dataset/CNH_Frente/*')\n",
        "cnh_frente =  cd.read_files(cnh_frente)\n",
        "cnh_frente = cd.resize_img(cnh_frente,(50,50))\n",
        "\n",
        "cnh_verso =  cd.readpath(path +  '/dataset/CNH_Verso/*')\n",
        "cnh_verso =  cd.read_files(cnh_verso)\n",
        "cnh_verso = cd.resize_img(cnh_verso,(50,50))"
      ]
    },
    {
      "cell_type": "markdown",
      "metadata": {
        "collapsed": false,
        "id": "WPwc3a6P9Cbo"
      },
      "source": [
        "## Leitura do CPF"
      ]
    },
    {
      "cell_type": "code",
      "execution_count": 45,
      "metadata": {
        "pycharm": {
          "name": "#%%\n"
        },
        "id": "NyETEK_C9Cbo"
      },
      "outputs": [],
      "source": [
        "cpf_frente =  cd.readpath(path + '/dataset/CPF_Frente/*')\n",
        "cpf_frente =  cd.read_files(cpf_frente)\n",
        "cpf_frente = cd.resize_img(cpf_frente,(50,50))\n",
        "\n",
        "cpf_verso =  cd.readpath(path +'/dataset/CPF_Verso/*')\n",
        "cpf_verso =  cd.read_files(cpf_verso)\n",
        "cpf_verso = cd.resize_img(cpf_verso,(50,50))"
      ]
    },
    {
      "cell_type": "markdown",
      "metadata": {
        "collapsed": false,
        "id": "it5_oYep9Cbp"
      },
      "source": [
        "## Leitura do RG"
      ]
    },
    {
      "cell_type": "code",
      "execution_count": 53,
      "metadata": {
        "pycharm": {
          "name": "#%%\n"
        },
        "id": "4r0LivNM9Cbq"
      },
      "outputs": [],
      "source": [
        "rg_frente =  cd.readpath(path + 'dataset/RG_Frente/*')\n",
        "rg_frente =  cd.read_files(rg_frente)\n",
        "rg_frente = cd.resize_img(rg_frente,(50,50))\n",
        "\n",
        "rg_verso =  cd.readpath(path + 'dataset/RG_Verso/*')\n",
        "rg_verso =  cd.read_files(rg_verso)\n",
        "rg_verso = cd.resize_img(rg_verso,(50,50))\n",
        "\n",
        "rg_aberto =  cd.readpath(path + 'dataset/RG_Aberto/*')\n",
        "rg_aberto =  cd.read_files(rg_aberto)\n",
        "rg_aberto = cd.resize_img(rg_aberto,(50,50))"
      ]
    },
    {
      "cell_type": "markdown",
      "metadata": {
        "id": "6iIS33UW9Cbt"
      },
      "source": [
        "## Teste de plotagem"
      ]
    },
    {
      "cell_type": "code",
      "execution_count": 56,
      "metadata": {
        "colab": {
          "base_uri": "https://localhost:8080/",
          "height": 267
        },
        "id": "_kB0lGeK9Cbu",
        "outputId": "e725ca50-cd89-461f-bf0e-327217e970bf"
      },
      "outputs": [
        {
          "output_type": "display_data",
          "data": {
            "image/png": "[encoded data removed]",
            "text/plain": [
              "<Figure size 432x288 with 1 Axes>"
            ]
          },
          "metadata": {
            "needs_background": "light"
          }
        }
      ],
      "source": [
        "plt.imshow(cnh_aberta[0])\n",
        "plt.show()"
      ]
    },
    {
      "cell_type": "markdown",
      "metadata": {
        "collapsed": false,
        "id": "lBOmuzqP9Cbv"
      },
      "source": [
        "## Preparando os dados para o treinamento"
      ]
    },
    {
      "cell_type": "code",
      "execution_count": 42,
      "metadata": {
        "pycharm": {
          "name": "#%%\n"
        },
        "id": "2RloHJib9Cbw"
      },
      "outputs": [],
      "source": [
        "labels = [1,2,3,4,5,6,7,8]\n",
        "documents = []\n",
        "\n",
        "for a,b,c,d,e,f,g,h in zip(cnh_aberta,cnh_frente,cnh_verso,cpf_frente,cpf_verso,rg_frente,rg_verso,rg_aberto):\n",
        "\tdocuments.append({'x':a, 'y':labels[0]})\n",
        "\tdocuments.append({'x':b,'y':labels[1]})\n",
        "\tdocuments.append({'x':c,'y':labels[2]})\n",
        "\tdocuments.append({'x':d,'y':labels[3]})\n",
        "\tdocuments.append({'x':e,'y':labels[4]})\n",
        "\tdocuments.append({'x':f,'y':labels[5]})\n",
        "\tdocuments.append({'x':g,'y':labels[6]})\n",
        "\tdocuments.append({'x':h,'y':labels[7]})\n"
      ]
    },
    {
      "cell_type": "code",
      "execution_count": 43,
      "metadata": {
        "pycharm": {
          "name": "#%%\n"
        },
        "id": "GuWmo07B9Cbx"
      },
      "outputs": [],
      "source": [
        "x_train = []\n",
        "y_train = []\n",
        "\n",
        "x_test = []\n",
        "y_test = []\n",
        "\n",
        "i = 0\n",
        "for document in documents:\n",
        "\tif i < 1000:\n",
        "\t\tx_train.append(document['x'])\n",
        "\t\ty_train.append(document['y'])\n",
        "\telse: break\n",
        "\n",
        "np.random.shuffle(documents[1000:]) #embaralhando os documentos\n",
        "\n",
        "i = 0\n",
        "for document in documents[1000:]:\n",
        "\tif i < 1000:\n",
        "\t\tx_test.append(document['x'])\n",
        "\t\ty_test.append(document['y'])\n",
        "\telse: break\n"
      ]
    },
    {
      "cell_type": "code",
      "execution_count": null,
      "metadata": {
        "pycharm": {
          "name": "#%%\n"
        },
        "id": "ZkWufEjA9Cbx"
      },
      "outputs": [],
      "source": [
        "x_train, y_train = cd.started_values(x_train,y_train)\n",
        "x_test, y_test = cd.started_values(x_test,y_test)"
      ]
    },
    {
      "cell_type": "markdown",
      "metadata": {
        "collapsed": false,
        "id": "o-pn8xd_9Cby"
      },
      "source": [
        "## Iniciando o treinamento usando o modelo SVC"
      ]
    },
    {
      "cell_type": "code",
      "execution_count": null,
      "metadata": {
        "pycharm": {
          "name": "#%%\n"
        },
        "id": "-yLtIOZT9Cbz"
      },
      "outputs": [],
      "source": [
        "document_classifier = SVC(kernel='linear')\n",
        "document_classifier.fit(x_train,y_train)\n",
        "\n",
        "test = random.choice(documents[1000:]) #escolhendo de forma aleatória\n",
        "\n",
        "prediction  = document_classifier.predict(test['x'].reshape(1,-1))"
      ]
    },
    {
      "cell_type": "markdown",
      "metadata": {
        "collapsed": false,
        "id": "gCOgKPRI9Cbz"
      },
      "source": [
        "## Resultados do treinamento para SVC"
      ]
    },
    {
      "cell_type": "code",
      "execution_count": null,
      "metadata": {
        "pycharm": {
          "is_executing": true,
          "name": "#%%\n"
        },
        "id": "6jnfT62i9Cb0"
      },
      "outputs": [],
      "source": [
        "print('Score:',document_classifier.score(x_train,y_train))\n",
        "print('Document:', cd.result(prediction))\n",
        "\n",
        "plt.imshow(test['x'])\n",
        "plt.show()"
      ]
    },
    {
      "cell_type": "markdown",
      "metadata": {
        "id": "GN68eGdY9Cb1"
      },
      "source": [
        "# Modelo de Acurácia"
      ]
    },
    {
      "cell_type": "code",
      "execution_count": null,
      "metadata": {
        "id": "7xT2s8Ri9Cb2"
      },
      "outputs": [],
      "source": [
        "#Vizualizacao do modelo de accuraria\n",
        "\n",
        "#print('Accuracy:',metrics.accuracy_score(y_test[:1000],y_train[:1000]))\n",
        "\n",
        "plt.plot(y_test[:1000])\n",
        "plt.plot(y_train[:1000])\n",
        "plt.title(\"Modelo de Acurácia:\")\n",
        "plt.ylabel('Acurácia')\n",
        "plt.xlabel('Tempo')\n",
        "plt.legend(['Treinamento', 'Valor'], loc='upper right')\n",
        "plt.show()"
      ]
    },
    {
      "cell_type": "markdown",
      "metadata": {
        "id": "eVYInE8d9Cb2"
      },
      "source": [
        "# Modelo de Perda"
      ]
    },
    {
      "cell_type": "code",
      "execution_count": null,
      "metadata": {
        "id": "qHqbtMiL9Cb3"
      },
      "outputs": [],
      "source": [
        "#Vizulizacao do modelo de perda\n",
        "\n",
        "plt.plot(y_test[:1000])\n",
        "plt.plot(y_test[:1000])\n",
        "plt.title(\"Modelo de Perda:\")\n",
        "plt.ylabel('Perda')\n",
        "plt.xlabel('Tempo')\n",
        "plt.legend(['Treinamento', 'Valor'], loc='upper left')\n",
        "plt.show()"
      ]
    },
    {
      "cell_type": "markdown",
      "metadata": {
        "id": "VRoor0669Cb4"
      },
      "source": [
        "# Rede Neural Convolucional"
      ]
    },
    {
      "cell_type": "code",
      "execution_count": null,
      "metadata": {
        "id": "-KQH2ovW9Cb4"
      },
      "outputs": [],
      "source": [
        "import tensorflow as tf\n",
        "import keras as K\n",
        "from keras.models import Sequential\n",
        "from keras.layers import Conv2D\n",
        "from keras.layers import MaxPooling2D\n",
        "from keras.layers import Flatten\n",
        "from keras.layers import Dense"
      ]
    },
    {
      "cell_type": "markdown",
      "metadata": {
        "id": "DLbxQfno9Cb5"
      },
      "source": [
        "## Inicializando a Rede Neural Convolucional"
      ]
    },
    {
      "cell_type": "code",
      "execution_count": null,
      "metadata": {
        "id": "9IZ781JU9Cb6"
      },
      "outputs": [],
      "source": [
        "classifier = Sequential()"
      ]
    },
    {
      "cell_type": "markdown",
      "metadata": {
        "id": "yDZ2QskR9Cb7"
      },
      "source": [
        "### 1. Primeira Camada de Convolução"
      ]
    },
    {
      "cell_type": "code",
      "execution_count": null,
      "metadata": {
        "id": "wciHW4z09Cb8"
      },
      "outputs": [],
      "source": [
        "#Convertendo todas as imagens 64x64 pixels por um array 3d (3 cores)\n",
        "classifier.add(Conv2D(32, (3, 3), input_shape = (64, 64, 3), activation = 'relu'))"
      ]
    },
    {
      "cell_type": "markdown",
      "metadata": {
        "id": "tIpMiPoE9Cb8"
      },
      "source": [
        "### 2. Pooling"
      ]
    },
    {
      "cell_type": "code",
      "execution_count": null,
      "metadata": {
        "id": "hz0iK5S69Cb9"
      },
      "outputs": [],
      "source": [
        "#agrupando para diminuir o mapa das imagens\n",
        "classifier.add(MaxPooling2D(pool_size = (2, 2)))"
      ]
    },
    {
      "cell_type": "code",
      "execution_count": null,
      "metadata": {
        "id": "cd0rUt959Cb9"
      },
      "outputs": [],
      "source": [
        "# Adicionando a Segunda Camada de Convolução\n",
        "classifier.add(Conv2D(32, (3, 3), activation = 'relu'))"
      ]
    },
    {
      "cell_type": "code",
      "execution_count": null,
      "metadata": {
        "id": "pFFD_oua9Cb9"
      },
      "outputs": [],
      "source": [
        "#agrupamento na segunda camada\n",
        "classifier.add(MaxPooling2D(pool_size = (2, 2)))"
      ]
    },
    {
      "cell_type": "markdown",
      "metadata": {
        "id": "v6LoR4Vw9Cb-"
      },
      "source": [
        "### 3. Flattening"
      ]
    },
    {
      "cell_type": "code",
      "execution_count": null,
      "metadata": {
        "id": "cQcDDLHS9Cb-"
      },
      "outputs": [],
      "source": [
        "#tecnica do achatamento tansanformando o map em um vetor\n",
        "classifier.add(Flatten())"
      ]
    },
    {
      "cell_type": "markdown",
      "metadata": {
        "id": "e1viMKQa9Cb-"
      },
      "source": [
        "### 4. Full connection"
      ]
    },
    {
      "cell_type": "code",
      "execution_count": null,
      "metadata": {
        "id": "OBYaPVX09Cb-"
      },
      "outputs": [],
      "source": [
        "'''\n",
        "Full connection -> juntando todo mundo \n",
        "relu -> ativação retificadora\n",
        "sigmoid -> probabilidade de certo de cada imagem \n",
        "'''\n",
        "classifier.add(Dense(units = 128, activation = 'relu'))\n",
        "classifier.add(Dense(units = 1, activation = 'sigmoid'))"
      ]
    },
    {
      "cell_type": "code",
      "execution_count": null,
      "metadata": {
        "id": "xWeBiGWZ9Cb_"
      },
      "outputs": [],
      "source": [
        "#Compilando a rede\n",
        "classifier.compile(optimizer = 'adam', loss = 'binary_crossentropy', metrics = ['accuracy'])"
      ]
    },
    {
      "cell_type": "markdown",
      "metadata": {
        "id": "Eawyx3C59Cb_"
      },
      "source": [
        "# Treinando a Rede Neural Convolucional"
      ]
    },
    {
      "cell_type": "code",
      "execution_count": null,
      "metadata": {
        "id": "eGgrgeXE9Cb_"
      },
      "outputs": [],
      "source": [
        "#Loding data\n",
        "from keras.datasets import cifar10\n",
        "#dividindo dataset em teste e treino\n",
        "(x_train,y_train), (x_test,y_test) = cifar10.load_data()\n",
        "#classificação \n",
        "classification = ['airplane','autombile','bird','cat','deer','dog','frog','house','ship','truck']"
      ]
    },
    {
      "cell_type": "code",
      "execution_count": null,
      "metadata": {
        "id": "dJfp5bdA9Cb_"
      },
      "outputs": [],
      "source": [
        "test_image = image.load_img(cifar10, target_size = (64, 64))\n",
        "test_image = image.img_to_array(test_image)\n",
        "test_image = np.expand_dims(test_image, axis = 0)\n",
        "result = classifier.predict(test_image)\n",
        "training_set.class_indices\n",
        "\n",
        "if result[0][0] == 1:\n",
        "    prediction = 'Cachorro'\n",
        "else:\n",
        "    prediction = 'Gato'\n",
        "\n",
        "Image(filename='dataset_teste/2216.jpg')"
      ]
    }
  ],
  "metadata": {
    "interpreter": {
      "hash": "a7f7bf6e294e5d2489f88d425ace11a197b461158df0335d6f5d57f2f7edadc8"
    },
    "kernelspec": {
      "display_name": "Python 3.10.0 64-bit",
      "language": "python",
      "name": "python3"
    },
    "language_info": {
      "codemirror_mode": {
        "name": "ipython",
        "version": 3
      },
      "file_extension": ".py",
      "mimetype": "text/x-python",
      "name": "python",
      "nbconvert_exporter": "python",
      "pygments_lexer": "ipython3",
      "version": "3.10.0"
    },
    "orig_nbformat": 4,
    "colab": {
      "name": "document_classification.ipynb",
      "provenance": [],
      "collapsed_sections": []
    }
  },
  "nbformat": 4,
  "nbformat_minor": 0
}